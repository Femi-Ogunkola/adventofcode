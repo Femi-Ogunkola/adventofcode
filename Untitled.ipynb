{
 "cells": [
  {
   "cell_type": "code",
   "execution_count": 14,
   "metadata": {},
   "outputs": [],
   "source": [
    "f = open(\"input.txt\", \"r\")\n",
    "arr = (f.read().split(\"\\n\"))"
   ]
  },
  {
   "cell_type": "code",
   "execution_count": 16,
   "metadata": {},
   "outputs": [],
   "source": [
    "arr = list(map(int, arr))\n"
   ]
  },
  {
   "cell_type": "code",
   "execution_count": 18,
   "metadata": {},
   "outputs": [],
   "source": [
    "arr_sort = sorted(arr)"
   ]
  },
  {
   "cell_type": "code",
   "execution_count": 27,
   "metadata": {
    "scrolled": true
   },
   "outputs": [
    {
     "name": "stdout",
     "output_type": "stream",
     "text": [
      "[21, 277, 413, 540, 542, 624, 814, 860, 951, 1119, 1164, 1179, 1195, 1196, 1198, 1202, 1205, 1211, 1213, 1214, 1217, 1220, 1221, 1231, 1235, 1241, 1249, 1252, 1254, 1258, 1273, 1280, 1282, 1283, 1293, 1294, 1304, 1309, 1313, 1317, 1319, 1321, 1322, 1324, 1325, 1334, 1336, 1339, 1361, 1364, 1367, 1384, 1399, 1409, 1414, 1420, 1430, 1432, 1443, 1444, 1449, 1453, 1458, 1472, 1474, 1481, 1484, 1494, 1503, 1504, 1505, 1506, 1507, 1511, 1517, 1531, 1534, 1536, 1538, 1545, 1547, 1551, 1554, 1556, 1558, 1564, 1574, 1575, 1578, 1579, 1592, 1598, 1599, 1616, 1621, 1623, 1625, 1628, 1641, 1644, 1656, 1658, 1663, 1664, 1665, 1667, 1686, 1687, 1688, 1689, 1693, 1694, 1699, 1704, 1706, 1713, 1715, 1719, 1723, 1724, 1726, 1727, 1733, 1736, 1739, 1742, 1752, 1754, 1772, 1773, 1775, 1794, 1796, 1797, 1799, 1802, 1811, 1813, 1814, 1823, 1826, 1828, 1833, 1834, 1840, 1847, 1848, 1849, 1854, 1855, 1856, 1857, 1859, 1862, 1865, 1867, 1869, 1873, 1875, 1876, 1882, 1883, 1884, 1889, 1893, 1894, 1896, 1897, 1898, 1902, 1906, 1915, 1922, 1926, 1927, 1934, 1942, 1947, 1951, 1956, 1957, 1958, 1959, 1960, 1961, 1964, 1970, 1971, 1975, 1977, 1981, 1982, 1987, 1990, 1997, 1999, 2003, 2007, 2009, 2010]\n"
     ]
    }
   ],
   "source": [
    "print(arr_sort)"
   ]
  },
  {
   "cell_type": "code",
   "execution_count": 24,
   "metadata": {},
   "outputs": [],
   "source": [
    "h = len(arr_sort)//2"
   ]
  },
  {
   "cell_type": "code",
   "execution_count": 30,
   "metadata": {},
   "outputs": [],
   "source": [
    "first_half = (arr_sort[:h])"
   ]
  },
  {
   "cell_type": "code",
   "execution_count": 39,
   "metadata": {},
   "outputs": [],
   "source": [
    "for i in range(len(first_half)):\n",
    "    if (2020-first_half[i]) in first_half:\n",
    "        print(i)\n",
    "        print(2020-first_half[i])"
   ]
  },
  {
   "cell_type": "code",
   "execution_count": 49,
   "metadata": {},
   "outputs": [
    {
     "name": "stdout",
     "output_type": "stream",
     "text": [
      "1119\n"
     ]
    }
   ],
   "source": [
    "print(2020-first_half[1]-first_half[5])"
   ]
  },
  {
   "cell_type": "code",
   "execution_count": null,
   "metadata": {},
   "outputs": [],
   "source": []
  },
  {
   "cell_type": "code",
   "execution_count": null,
   "metadata": {},
   "outputs": [],
   "source": []
  }
 ],
 "metadata": {
  "kernelspec": {
   "display_name": "Python 3",
   "language": "python",
   "name": "python3"
  },
  "language_info": {
   "codemirror_mode": {
    "name": "ipython",
    "version": 3
   },
   "file_extension": ".py",
   "mimetype": "text/x-python",
   "name": "python",
   "nbconvert_exporter": "python",
   "pygments_lexer": "ipython3",
   "version": "3.8.3"
  }
 },
 "nbformat": 4,
 "nbformat_minor": 4
}
