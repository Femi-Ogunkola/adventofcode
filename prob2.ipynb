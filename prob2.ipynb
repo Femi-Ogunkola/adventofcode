{
 "cells": [
  {
   "cell_type": "code",
   "execution_count": 18,
   "metadata": {},
   "outputs": [],
   "source": [
    "f = open(\"prob2.txt\", \"r\")\n",
    "arr = (f.read().split(\"\\n\"))"
   ]
  },
  {
   "cell_type": "code",
   "execution_count": 22,
   "metadata": {},
   "outputs": [
    {
     "data": {
      "text/plain": [
       "'2-6 c: fcpwjqhcgtffzlbj'"
      ]
     },
     "execution_count": 22,
     "metadata": {},
     "output_type": "execute_result"
    }
   ],
   "source": [
    "arr[0]"
   ]
  },
  {
   "cell_type": "code",
   "execution_count": 53,
   "metadata": {},
   "outputs": [
    {
     "name": "stdout",
     "output_type": "stream",
     "text": [
      "582\n"
     ]
    }
   ],
   "source": [
    "count = 0\n",
    "for i in  range(len(arr)):\n",
    "    arr[i] = arr[i].replace(':',\" \").replace('-',' ').replace(\"  \",\" \")\n",
    "    a = arr[i].split(\" \")\n",
    "    mini = int(a[0])\n",
    "    maxi = int(a[1])\n",
    "    letter = a[2]\n",
    "    password = a[3]\n",
    "    \n",
    "    if mini<=password.count(letter)<=maxi:\n",
    "        count =count+1\n",
    "print(count)"
   ]
  },
  {
   "cell_type": "code",
   "execution_count": 51,
   "metadata": {},
   "outputs": [
    {
     "data": {
      "text/plain": [
       "'rvfgnggjgk'"
      ]
     },
     "execution_count": 51,
     "metadata": {},
     "output_type": "execute_result"
    }
   ],
   "source": [
    "a[3]"
   ]
  },
  {
   "cell_type": "code",
   "execution_count": 101,
   "metadata": {},
   "outputs": [
    {
     "name": "stdout",
     "output_type": "stream",
     "text": [
      "729\n"
     ]
    }
   ],
   "source": [
    "count = 0\n",
    "both = 0\n",
    "single = 0\n",
    "for i in  range(len(arr)):\n",
    "    arr[i] = arr[i].replace(':',\" \").replace('-',' ').replace(\"  \",\" \")\n",
    "    a = arr[i].split(\" \")\n",
    "    mini = int(a[0])\n",
    "    maxi = int(a[1])\n",
    "    letter = a[2]\n",
    "    password = a[3]\n",
    "    \n",
    "    if len(password)< maxi:\n",
    "        if password[mini-1]==letter:\n",
    "            single = single+1\n",
    "    elif(len(password)>=maxi):\n",
    "        if(password[mini-1] == letter and password[maxi-1]==letter):\n",
    "            both =  both+1\n",
    "        elif(password[mini-1] == letter or password[maxi-1]==letter):\n",
    "            single = single+1\n",
    "print(single)"
   ]
  },
  {
   "cell_type": "code",
   "execution_count": 111,
   "metadata": {},
   "outputs": [
    {
     "name": "stdout",
     "output_type": "stream",
     "text": [
      "849 151\n"
     ]
    }
   ],
   "source": [
    "count = 0\n",
    "single =0\n",
    "no = 0\n",
    "for i in  range(len(arr)):\n",
    "    arr[i] = arr[i].replace(':',\" \").replace('-',' ').replace(\"  \",\" \")\n",
    "    a = arr[i].split(\" \")\n",
    "    mini = int(a[0])\n",
    "    maxi = int(a[1])\n",
    "    letter = a[2]\n",
    "    password = a[3]\n",
    "    #print(len(password),maxi)\n",
    "   \n",
    "    if password[mini-1]== letter or password[maxi-1]== letter:\n",
    "        single = single+1\n",
    "    if password[mini-1]== letter and password[maxi-1]== letter:\n",
    "       # print(password,password[maxi-1])\n",
    "        count =count+1 \n",
    "    if password[mini-1] != letter and password[maxi-1]!= letter:\n",
    "        no = no+1\n",
    "print(single-count, no)"
   ]
  },
  {
   "cell_type": "code",
   "execution_count": 107,
   "metadata": {},
   "outputs": [
    {
     "data": {
      "text/plain": [
       "1000"
      ]
     },
     "execution_count": 107,
     "metadata": {},
     "output_type": "execute_result"
    }
   ],
   "source": [
    "len(arr)"
   ]
  },
  {
   "cell_type": "code",
   "execution_count": null,
   "metadata": {},
   "outputs": [],
   "source": []
  },
  {
   "cell_type": "code",
   "execution_count": null,
   "metadata": {},
   "outputs": [],
   "source": []
  },
  {
   "cell_type": "code",
   "execution_count": null,
   "metadata": {},
   "outputs": [],
   "source": []
  }
 ],
 "metadata": {
  "kernelspec": {
   "display_name": "Python 3",
   "language": "python",
   "name": "python3"
  },
  "language_info": {
   "codemirror_mode": {
    "name": "ipython",
    "version": 3
   },
   "file_extension": ".py",
   "mimetype": "text/x-python",
   "name": "python",
   "nbconvert_exporter": "python",
   "pygments_lexer": "ipython3",
   "version": "3.8.3"
  }
 },
 "nbformat": 4,
 "nbformat_minor": 4
}
