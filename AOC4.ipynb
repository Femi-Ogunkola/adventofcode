{
 "cells": [
  {
   "cell_type": "code",
   "execution_count": 121,
   "metadata": {},
   "outputs": [
    {
     "name": "stdout",
     "output_type": "stream",
     "text": [
      "288\n"
     ]
    }
   ],
   "source": [
    "f = open(\"AOC4.txt\", \"r\")\n",
    "arr = (f.read().split(\"\\n\\n\"))\n",
    "print(len(arr))\n",
    "#print((arr[12]))\n",
    "total = len(arr)\n",
    "t1=len(arr)"
   ]
  },
  {
   "cell_type": "code",
   "execution_count": 122,
   "metadata": {},
   "outputs": [],
   "source": [
    "for i in range(len(arr)):\n",
    "    arr[i] = (arr[i].replace('\\n',' '))"
   ]
  },
  {
   "cell_type": "code",
   "execution_count": 123,
   "metadata": {},
   "outputs": [],
   "source": [
    "def convert_to_dict(scores):\n",
    "    scores_dict = {}\n",
    "    for thing in scores:\n",
    "        thing = thing.split(\":\")\n",
    "        key = thing[0]\n",
    "        value = thing[1]\n",
    "        scores_dict[key] = value\n",
    "    return(scores_dict)"
   ]
  },
  {
   "cell_type": "code",
   "execution_count": 124,
   "metadata": {},
   "outputs": [],
   "source": [
    "b=[]\n",
    "total =288\n",
    "valid = 0\n",
    "invalid = 0\n",
    "z= []\n",
    "a =[]\n",
    "for i in range(len(arr)):\n",
    "    b.append(convert_to_dict(arr[i].split(\" \")))\n",
    "   "
   ]
  },
  {
   "cell_type": "code",
   "execution_count": 132,
   "metadata": {},
   "outputs": [
    {
     "name": "stdout",
     "output_type": "stream",
     "text": [
      "177\n",
      "111\n"
     ]
    }
   ],
   "source": [
    "hgt = False\n",
    "ecl = False\n",
    "pid = False\n",
    "eyr = False\n",
    "hcl = False\n",
    "byr = False\n",
    "iyr = False\n",
    "valid = 0\n",
    "invalid =0\n",
    "for i in range(len(arr)):\n",
    "    if len(b[i].keys())==8 and\"cid\"in set(b[i].keys()) or (len(b[i].keys())==7 and \"cid\" not in set(b[i].keys())):\n",
    "        byr = 1920<=int(b[i].get('byr'))<=2002\n",
    "        iyr = 2010<=int(b[i].get('iyr'))<=2020\n",
    "        eyr = 2020<=int(b[i].get('eyr'))<=2030\n",
    "        ecl = b[i].get('ecl') in ['amb', 'blu' ,'brn', 'gry', 'grn', 'hzl', 'oth']\n",
    "        hcl = b[i].get('hcl')[0]==\"#\" and \"000000\"<=b[i].get('hcl')[1:]<='ffffff' and len(b[i].get('hcl'))==7\n",
    "        hgt = (\"in\" in b[i].get('hgt') and 59 <=int(b[i].get('hgt').replace('in',''))<=76) or \"cm\" in b[i].get('hgt') and 150 <=int(b[i].get('hgt').replace('cm',''))<=193\n",
    "        pid = len(b[i].get('pid'))==9\n",
    "        \n",
    "        if(byr and iyr and eyr and ecl and hcl and hgt and pid):\n",
    "                valid = valid+1\n",
    "        else:\n",
    "            invalid = invalid+1\n",
    "    else:\n",
    "        invalid = invalid+1\n",
    "\n",
    "print(invalid)\n",
    "print(valid)"
   ]
  },
  {
   "cell_type": "code",
   "execution_count": 101,
   "metadata": {},
   "outputs": [],
   "source": [
    "all_keys = ['ecl', 'pid', 'eyr', 'hcl', 'byr', 'iyr', 'cid', 'hgt']"
   ]
  },
  {
   "cell_type": "code",
   "execution_count": 102,
   "metadata": {},
   "outputs": [
    {
     "ename": "SyntaxError",
     "evalue": "invalid syntax (<ipython-input-102-ec005595fe48>, line 1)",
     "output_type": "error",
     "traceback": [
      "\u001b[1;36m  File \u001b[1;32m\"<ipython-input-102-ec005595fe48>\"\u001b[1;36m, line \u001b[1;32m1\u001b[0m\n\u001b[1;33m    elif len(set(b[i].keys()))==7 and \"cid\" not in set(b[i].keys()):\u001b[0m\n\u001b[1;37m    ^\u001b[0m\n\u001b[1;31mSyntaxError\u001b[0m\u001b[1;31m:\u001b[0m invalid syntax\n"
     ]
    }
   ],
   "source": [
    "elif len(set(b[i].keys()))==7 and \"cid\" not in set(b[i].keys()):\n",
    "            if ((1920<=int(b[i].get('byr'))<=2002) \n",
    "            and (2010<=int(b[i].get('iyr'))<=2020) \n",
    "            and (2020<=int(b[i].get('eyr'))<=2030)\n",
    "            and (b[i].get('ecl') in ['amb', 'blu' ,'brn', 'gry', 'grn', 'hzl', 'oth'])\n",
    "            and (b[i].get('hcl')[0]==\"#\" and \"000000\"<=b[i].get('hcl')[1:]<='ffffff'\n",
    "            and len(b[i].get('hcl'))==7) \n",
    "            and (len(b[i].get('pid'))==9)\n",
    "            and ((\"in\" in b[i].get('hgt') and 59 <=int(b[i].get('hgt').replace('in',''))<=76) or\n",
    "                 (\"cm\" in b[i].get('hgt') and 150 <=int(b[i].get('hgt').replace('cm','')))<=193)):\n",
    "                #print(b[i])\n",
    "                #print(b[i].get('hcl'))\n",
    "                valid = valid+1"
   ]
  },
  {
   "cell_type": "code",
   "execution_count": 10,
   "metadata": {},
   "outputs": [
    {
     "data": {
      "text/plain": [
       "'and (b[i].get(\\'ecl\\') in [\\'amb\\', \\'blu\\' ,\\'brn\\', \\'gry\\', \\'grn\\', \\'hzl\\', \\'oth\\'])\\n           and(b[i].get(\\'hcl\\') in [\\'a\\',\\'b\\',\\'c\\',\\'d\\',\\'e\\',\\'f\\',\\'0\\',\\'1\\',\\'2\\',\\'3\\',\\'4\\',\\'5\\',\\'6\\',\\'7\\',\\'8\\',\\'9\\'] and b[i].get(\\'hcl\\')[0]==\"#\"\\n           and len(b[i].get(\\'hcl\\'))==6) \\n           and (b[i].get(\\'hcl\\')[0]==\"0\" and len(b[i].get(\\'hcl\\'))==9)):\\n               c.append(b[i])'"
      ]
     },
     "execution_count": 10,
     "metadata": {},
     "output_type": "execute_result"
    }
   ],
   "source": [
    " '''and (b[i].get('ecl') in ['amb', 'blu' ,'brn', 'gry', 'grn', 'hzl', 'oth'])\n",
    "            and(b[i].get('hcl') in ['a','b','c','d','e','f','0','1','2','3','4','5','6','7','8','9'] and b[i].get('hcl')[0]==\"#\"\n",
    "            and len(b[i].get('hcl'))==6) \n",
    "            and (b[i].get('hcl')[0]==\"0\" and len(b[i].get('hcl'))==9)):\n",
    "                c.append(b[i])'''"
   ]
  },
  {
   "cell_type": "code",
   "execution_count": null,
   "metadata": {},
   "outputs": [],
   "source": [
    "'02f6b3'<'ffffff'"
   ]
  },
  {
   "cell_type": "code",
   "execution_count": 43,
   "metadata": {},
   "outputs": [
    {
     "data": {
      "text/plain": [
       "False"
      ]
     },
     "execution_count": 43,
     "metadata": {},
     "output_type": "execute_result"
    }
   ],
   "source": [
    "False and False and False"
   ]
  },
  {
   "cell_type": "code",
   "execution_count": null,
   "metadata": {},
   "outputs": [],
   "source": []
  }
 ],
 "metadata": {
  "kernelspec": {
   "display_name": "Python 3",
   "language": "python",
   "name": "python3"
  },
  "language_info": {
   "codemirror_mode": {
    "name": "ipython",
    "version": 3
   },
   "file_extension": ".py",
   "mimetype": "text/x-python",
   "name": "python",
   "nbconvert_exporter": "python",
   "pygments_lexer": "ipython3",
   "version": "3.8.3"
  }
 },
 "nbformat": 4,
 "nbformat_minor": 4
}
